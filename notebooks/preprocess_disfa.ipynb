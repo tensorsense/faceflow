{
 "cells": [
  {
   "cell_type": "code",
   "execution_count": null,
   "id": "a6b90ebc",
   "metadata": {},
   "outputs": [],
   "source": [
    "!pip3 install ultralytics gdown"
   ]
  },
  {
   "cell_type": "code",
   "execution_count": 4,
   "id": "763589c6",
   "metadata": {},
   "outputs": [],
   "source": [
    "import os\n",
    "from pathlib import Path\n",
    "from ultralytics import YOLO\n",
    "import cv2\n",
    "import numpy as np\n",
    "import pandas as pd\n",
    "from tqdm import tqdm"
   ]
  },
  {
   "cell_type": "markdown",
   "id": "822dc0bb",
   "metadata": {},
   "source": [
    "# Unzip Videos into LeftVideo and RightVideo folders"
   ]
  },
  {
   "cell_type": "code",
   "execution_count": null,
   "id": "c2cd0193",
   "metadata": {},
   "outputs": [],
   "source": [
    "# care that original zip files are named slightly differently\n",
    "!mkdir -p LeftVideo\n",
    "!unzip Videos_LeftCamera.zip -d LeftVideo\n",
    "!mkdir -p RightVideo\n",
    "!unzip Video_RightCamera.zip -d RightVideo"
   ]
  },
  {
   "cell_type": "markdown",
   "id": "84179e80",
   "metadata": {},
   "source": [
    "# Split videos into frames"
   ]
  },
  {
   "cell_type": "code",
   "execution_count": null,
   "id": "33a7139b",
   "metadata": {
    "scrolled": true
   },
   "outputs": [],
   "source": [
    "# jpg files would inherit Right/Left marker from video so we can put them together\n",
    "!mkdir -p raw_images/\n",
    "!cd LeftVideo && for FILE_NAME in *.avi; do ffmpeg -i \"$FILE_NAME\" \"${FILE_NAME%.*}\"%05d.jpg -hide_banner; done\n",
    "!mv LeftVideo/*.jpg raw_images/\n",
    "!cd RightVideo && for FILE_NAME in *.avi; do ffmpeg -i \"$FILE_NAME\" \"${FILE_NAME%.*}\"%05d.jpg -hide_banner; done\n",
    "!mv RightVideo/*.jpg raw_images/"
   ]
  },
  {
   "cell_type": "markdown",
   "id": "26a41553",
   "metadata": {},
   "source": [
    "# Crop faces from frames"
   ]
  },
  {
   "cell_type": "code",
   "execution_count": 35,
   "id": "279f1f20",
   "metadata": {},
   "outputs": [
    {
     "name": "stdout",
     "output_type": "stream",
     "text": [
      "Downloading...\n",
      "From: https://drive.google.com/uc?id=1qcr9DbgsX3ryrz2uU8w4Xm3cOrRywXqb\n",
      "To: /data2/disfa/yolov8n-face.pt\n",
      "100%|██████████████████████████████████████| 6.39M/6.39M [00:00<00:00, 39.6MB/s]\n"
     ]
    }
   ],
   "source": [
    "# yolo weights from https://github.com/derronqi/yolov8-face/tree/main\n",
    "!gdown \"https://drive.google.com/uc?id=1qcr9DbgsX3ryrz2uU8w4Xm3cOrRywXqb\""
   ]
  },
  {
   "cell_type": "code",
   "execution_count": 29,
   "id": "713424d2-917e-4161-828b-7d5b1a54b467",
   "metadata": {},
   "outputs": [
    {
     "name": "stdout",
     "output_type": "stream",
     "text": [
      "cropped_jpgs\t  disfa_labels_test.csv   left_train.csv\n",
      "crops\t\t  disfa_labels_train.csv  left_val.csv\n",
      "disfa_labels.csv  left_all.csv\t\t  raw_components\n"
     ]
    }
   ],
   "source": [
    "os.chdir('/data2/disfa/')\n",
    "!mkdir -p cropped_jpgs\n",
    "!ls"
   ]
  },
  {
   "cell_type": "code",
   "execution_count": null,
   "id": "e172ad0b-9dc7-4b5c-8116-494fe04e6d26",
   "metadata": {},
   "outputs": [],
   "source": []
  },
  {
   "cell_type": "code",
   "execution_count": null,
   "id": "1d14ceaa",
   "metadata": {},
   "outputs": [
    {
     "name": "stderr",
     "output_type": "stream",
     "text": [
      "IOPub data rate exceeded.\n",
      "The Jupyter server will temporarily stop sending output\n",
      "to the client in order to avoid crashing it.\n",
      "To change this limit, set the config variable\n",
      "`--ServerApp.iopub_data_rate_limit`.\n",
      "\n",
      "Current values:\n",
      "ServerApp.iopub_data_rate_limit=1000000.0 (bytes/sec)\n",
      "ServerApp.rate_limit_window=3.0 (secs)\n",
      "\n",
      " 10%|███████████████▎                                                                                                                                        | 13217/130814 [10:19<1:31:16, 21.47it/s]"
     ]
    }
   ],
   "source": [
    "def crop_or_pad(orig, bbox):\n",
    "    max_side = max(bbox[3] - bbox[1], bbox[2] - bbox[0])\n",
    "    bbox_xc, bbox_yc = (bbox[2] + bbox[0]) / 2, (bbox[3] + bbox[1]) / 2,\n",
    "\n",
    "    orig_h, orig_w, _ = orig.shape\n",
    "    on_orig_x1 = int(max(bbox_xc - np.floor(max_side / 2), 0))\n",
    "    on_orig_x2 = int(min(bbox_xc + np.ceil(max_side / 2), orig_w))\n",
    "    on_orig_y1 = int(max(bbox_yc - np.floor(max_side / 2), 0))\n",
    "    on_orig_y2 = int(min(bbox_yc + np.ceil(max_side / 2), orig_h))\n",
    "\n",
    "    pad = np.zeros((max_side, max_side, 3), dtype=np.uint8)\n",
    "\n",
    "    on_pad_x1 = max_side // 2 - (on_orig_x2 - on_orig_x1) // 2\n",
    "    on_pad_x2 = on_pad_x1 + on_orig_x2 - on_orig_x1\n",
    "    on_pad_y1 = max_side // 2 - (on_orig_y2 - on_orig_y1) // 2\n",
    "    on_pad_y2 = on_pad_y1 + on_orig_y2 - on_orig_y1\n",
    "\n",
    "    pad[on_pad_y1:on_pad_y2, on_pad_x1:on_pad_x2, :] = orig[on_orig_y1:on_orig_y2, on_orig_x1:on_orig_x2, :].copy()\n",
    "    return pad\n",
    "\n",
    "root_path = Path('.')\n",
    "raw_path = root_path/'raw_components/LeftVideo/jpg' # where are raw images\n",
    "img_paths = [raw_path/f for f in os.listdir(raw_path)]\n",
    "print(img_paths)\n",
    "crops_path = Path('cropped_images') # where to put crops\n",
    "\n",
    "crops_min_size = 1\n",
    "crops_max_size = 300\n",
    "crops_conf_thresh = 0.6\n",
    "\n",
    "weight_path = \"yolov8n-face.pt\"\n",
    "model = YOLO(weight_path)\n",
    "\n",
    "meta = []\n",
    "\n",
    "for img_path in tqdm(img_paths):\n",
    "    img = cv2.imread(img_path.as_posix())[:,:,::-1]\n",
    "    if img is None:\n",
    "        continue\n",
    "\n",
    "    results = model.predict(img, verbose=False, show=False, conf=0.25)[0]\n",
    "\n",
    "    for result_idx, result in enumerate(results):\n",
    "        xc, yc, w, h = [int(n) for n in result.boxes.xywh.tolist()[0]]\n",
    "        x1, y1, x2, y2 = [int(n) for n in result.boxes.xyxy.tolist()[0]]\n",
    "        confidence = result.boxes.conf.tolist()[0]\n",
    "\n",
    "        if confidence < crops_conf_thresh:\n",
    "            continue\n",
    "        if result.keypoints is None:\n",
    "            print(img_path, None)\n",
    "            continue\n",
    "        left_eye, left_eye_conf = result.keypoints.xy[0][0].cpu().numpy(), result.keypoints.conf[0][0]\n",
    "        right_eye, right_eye_conf = result.keypoints.xy[0][1].cpu().numpy(), result.keypoints.conf[0][1]\n",
    "\n",
    "        if left_eye_conf > 0.5 and right_eye_conf > 0.5:\n",
    "            dy = right_eye[1] - left_eye[1]\n",
    "            dx = right_eye[0] - left_eye[0]\n",
    "            angle = np.degrees(np.arctan2(dy, dx))\n",
    "            rot_mat = cv2.getRotationMatrix2D(center=(xc, yc), angle=angle, scale=1.)\n",
    "            img_rot = cv2.warpAffine(img, rot_mat, (img.shape[1], img.shape[0]), flags=cv2.INTER_LINEAR)\n",
    "\n",
    "            crop = crop_or_pad(img_rot, [x1, y1, x2, y2])\n",
    "\n",
    "            crop_size, _, _ = crop.shape\n",
    "            if crop_size < crops_min_size:\n",
    "                continue\n",
    "            elif crop_size > crops_max_size:\n",
    "                crop = cv2.resize(crop, (crops_max_size, crops_max_size), interpolation=cv2.INTER_LINEAR)\n",
    "\n",
    "            cv2.imwrite(crops_path / img_path.name, crop[:,:,::-1])\n",
    "\n",
    "            meta.append({\"raw_name\": f\"{raw_path}/{img_path.name}\",\n",
    "                         \"bbox_crop\": [x1, y1, x2, y2]})\n",
    "\n",
    "meta_df = pd.DataFrame(meta)"
   ]
  },
  {
   "cell_type": "markdown",
   "id": "9b3d9580",
   "metadata": {},
   "source": [
    "### Do the same for RightVideo, merge jpg files into one folder"
   ]
  },
  {
   "cell_type": "markdown",
   "id": "9bb8f8a6",
   "metadata": {},
   "source": [
    "# Prepare labels"
   ]
  },
  {
   "cell_type": "code",
   "execution_count": 51,
   "id": "c480815c",
   "metadata": {},
   "outputs": [],
   "source": [
    "label_path = Path('/data2/disfa/raw_components/ActionUnit_Labels')\n",
    "res = []\n",
    "for movie in os.listdir(label_path):\n",
    "    for txt in os.listdir((label_path/movie).as_posix()):\n",
    "        with open((label_path/movie/txt).as_posix(), 'r') as f:\n",
    "            for l in f.readlines():\n",
    "                res.append([movie, txt.split('.')[0].split('_')[1].replace('au',''), *l.strip().split(',')])"
   ]
  },
  {
   "cell_type": "code",
   "execution_count": 52,
   "id": "8564042e",
   "metadata": {},
   "outputs": [],
   "source": [
    "df = pd.DataFrame(res)\n",
    "df.columns = ['video', 'au', 'frame', 'value']"
   ]
  },
  {
   "cell_type": "code",
   "execution_count": 53,
   "id": "dbd19242",
   "metadata": {},
   "outputs": [],
   "source": [
    "df = df.pivot_table(values='value', index=['video', 'frame'], columns='au', aggfunc='first').reset_index()\n",
    "df.columns = [x if x in ['video', 'frame'] else f'AU{x}' for x in df.columns]"
   ]
  },
  {
   "cell_type": "code",
   "execution_count": 54,
   "id": "1db0aa6d",
   "metadata": {},
   "outputs": [],
   "source": [
    "# here we match jpgs with labels\n",
    "df_tmp = df.copy()\n",
    "df['filename'] = df.apply(lambda r: f'LeftVideo{r.video}_comp{int(r.frame):05d}.jpg', axis=1)\n",
    "df_tmp['filename'] = df_tmp.apply(lambda r: f'RightVideo{r.video}_comp{int(r.frame):05d}.jpg', axis=1)\n",
    "df = pd.concat([df, df_tmp]).reset_index()\n",
    "del df_tmp"
   ]
  },
  {
   "cell_type": "code",
   "execution_count": 55,
   "id": "4f7b7a7e-3b71-451f-ada6-7df3372b336b",
   "metadata": {},
   "outputs": [
    {
     "data": {
      "text/html": [
       "<div>\n",
       "<style scoped>\n",
       "    .dataframe tbody tr th:only-of-type {\n",
       "        vertical-align: middle;\n",
       "    }\n",
       "\n",
       "    .dataframe tbody tr th {\n",
       "        vertical-align: top;\n",
       "    }\n",
       "\n",
       "    .dataframe thead th {\n",
       "        text-align: right;\n",
       "    }\n",
       "</style>\n",
       "<table border=\"1\" class=\"dataframe\">\n",
       "  <thead>\n",
       "    <tr style=\"text-align: right;\">\n",
       "      <th></th>\n",
       "      <th>index</th>\n",
       "      <th>video</th>\n",
       "      <th>frame</th>\n",
       "      <th>AU1</th>\n",
       "      <th>AU12</th>\n",
       "      <th>AU15</th>\n",
       "      <th>AU17</th>\n",
       "      <th>AU2</th>\n",
       "      <th>AU20</th>\n",
       "      <th>AU25</th>\n",
       "      <th>AU26</th>\n",
       "      <th>AU4</th>\n",
       "      <th>AU5</th>\n",
       "      <th>AU6</th>\n",
       "      <th>AU9</th>\n",
       "      <th>filename</th>\n",
       "    </tr>\n",
       "  </thead>\n",
       "  <tbody>\n",
       "    <tr>\n",
       "      <th>0</th>\n",
       "      <td>0</td>\n",
       "      <td>SN001</td>\n",
       "      <td>1</td>\n",
       "      <td>0</td>\n",
       "      <td>2</td>\n",
       "      <td>0</td>\n",
       "      <td>0</td>\n",
       "      <td>0</td>\n",
       "      <td>0</td>\n",
       "      <td>0</td>\n",
       "      <td>0</td>\n",
       "      <td>0</td>\n",
       "      <td>0</td>\n",
       "      <td>0</td>\n",
       "      <td>0</td>\n",
       "      <td>LeftVideoSN001_comp00001.jpg</td>\n",
       "    </tr>\n",
       "    <tr>\n",
       "      <th>1</th>\n",
       "      <td>1</td>\n",
       "      <td>SN001</td>\n",
       "      <td>10</td>\n",
       "      <td>0</td>\n",
       "      <td>2</td>\n",
       "      <td>0</td>\n",
       "      <td>0</td>\n",
       "      <td>0</td>\n",
       "      <td>0</td>\n",
       "      <td>0</td>\n",
       "      <td>0</td>\n",
       "      <td>0</td>\n",
       "      <td>0</td>\n",
       "      <td>0</td>\n",
       "      <td>0</td>\n",
       "      <td>LeftVideoSN001_comp00010.jpg</td>\n",
       "    </tr>\n",
       "    <tr>\n",
       "      <th>2</th>\n",
       "      <td>2</td>\n",
       "      <td>SN001</td>\n",
       "      <td>100</td>\n",
       "      <td>0</td>\n",
       "      <td>2</td>\n",
       "      <td>0</td>\n",
       "      <td>0</td>\n",
       "      <td>0</td>\n",
       "      <td>0</td>\n",
       "      <td>0</td>\n",
       "      <td>0</td>\n",
       "      <td>0</td>\n",
       "      <td>0</td>\n",
       "      <td>0</td>\n",
       "      <td>0</td>\n",
       "      <td>LeftVideoSN001_comp00100.jpg</td>\n",
       "    </tr>\n",
       "    <tr>\n",
       "      <th>3</th>\n",
       "      <td>3</td>\n",
       "      <td>SN001</td>\n",
       "      <td>1000</td>\n",
       "      <td>0</td>\n",
       "      <td>0</td>\n",
       "      <td>0</td>\n",
       "      <td>0</td>\n",
       "      <td>0</td>\n",
       "      <td>0</td>\n",
       "      <td>0</td>\n",
       "      <td>0</td>\n",
       "      <td>0</td>\n",
       "      <td>0</td>\n",
       "      <td>0</td>\n",
       "      <td>0</td>\n",
       "      <td>LeftVideoSN001_comp01000.jpg</td>\n",
       "    </tr>\n",
       "    <tr>\n",
       "      <th>4</th>\n",
       "      <td>4</td>\n",
       "      <td>SN001</td>\n",
       "      <td>1001</td>\n",
       "      <td>0</td>\n",
       "      <td>0</td>\n",
       "      <td>0</td>\n",
       "      <td>0</td>\n",
       "      <td>0</td>\n",
       "      <td>0</td>\n",
       "      <td>0</td>\n",
       "      <td>0</td>\n",
       "      <td>0</td>\n",
       "      <td>0</td>\n",
       "      <td>0</td>\n",
       "      <td>0</td>\n",
       "      <td>LeftVideoSN001_comp01001.jpg</td>\n",
       "    </tr>\n",
       "  </tbody>\n",
       "</table>\n",
       "</div>"
      ],
      "text/plain": [
       "   index  video frame AU1 AU12 AU15 AU17 AU2 AU20 AU25 AU26 AU4 AU5 AU6 AU9  \\\n",
       "0      0  SN001     1   0    2    0    0   0    0    0    0   0   0   0   0   \n",
       "1      1  SN001    10   0    2    0    0   0    0    0    0   0   0   0   0   \n",
       "2      2  SN001   100   0    2    0    0   0    0    0    0   0   0   0   0   \n",
       "3      3  SN001  1000   0    0    0    0   0    0    0    0   0   0   0   0   \n",
       "4      4  SN001  1001   0    0    0    0   0    0    0    0   0   0   0   0   \n",
       "\n",
       "                       filename  \n",
       "0  LeftVideoSN001_comp00001.jpg  \n",
       "1  LeftVideoSN001_comp00010.jpg  \n",
       "2  LeftVideoSN001_comp00100.jpg  \n",
       "3  LeftVideoSN001_comp01000.jpg  \n",
       "4  LeftVideoSN001_comp01001.jpg  "
      ]
     },
     "execution_count": 55,
     "metadata": {},
     "output_type": "execute_result"
    }
   ],
   "source": [
    "df.head()"
   ]
  },
  {
   "cell_type": "code",
   "execution_count": 56,
   "id": "e960077c",
   "metadata": {},
   "outputs": [],
   "source": [
    "# movie, frame, filename, AU1, AU2, ...\n",
    "df.to_csv('disfa_labels.csv', index=False)"
   ]
  },
  {
   "cell_type": "markdown",
   "id": "1083543d",
   "metadata": {},
   "source": [
    "# Split into train/test by video\n",
    "\n",
    "alternatively you can train on the whole dataset and test on another dataset"
   ]
  },
  {
   "cell_type": "code",
   "execution_count": 57,
   "id": "c8a304e2",
   "metadata": {},
   "outputs": [],
   "source": [
    "videos = df.video.unique()\n",
    "np.random.seed(1337)\n",
    "test_videos = np.random.choice(videos, size=int(len(videos)/5))\n",
    "df[~df['video'].isin(test_videos)].to_csv('disfa_labels_train.csv', index=False)\n",
    "df[df['video'].isin(test_videos)].to_csv('disfa_labels_test.csv', index=False)\n"
   ]
  },
  {
   "cell_type": "code",
   "execution_count": 59,
   "id": "49e560c9-645d-41ca-9abc-7e59ad6b1244",
   "metadata": {},
   "outputs": [
    {
     "data": {
      "text/plain": [
       "(100, 16)"
      ]
     },
     "execution_count": 59,
     "metadata": {},
     "output_type": "execute_result"
    }
   ],
   "source": [
    "df_proc_tmp = df[df.filename.isin(os.listdir('cropped_images'))].iloc[:100]\n",
    "df_proc_tmp.shape"
   ]
  },
  {
   "cell_type": "code",
   "execution_count": 61,
   "id": "74bb6bc6-52d4-4e3f-828d-ab4e89947e44",
   "metadata": {},
   "outputs": [],
   "source": [
    "df_proc_tmp[~df_proc_tmp['video'].isin(test_videos)].to_csv('df_proc_tmp_train.csv', index=False)\n",
    "df_proc_tmp[df_proc_tmp['video'].isin(test_videos)].to_csv('df_proc_tmp_test.csv', index=False)\n"
   ]
  },
  {
   "cell_type": "code",
   "execution_count": null,
   "id": "cb8bbd15-7e21-4cd5-9869-2d14ad59a112",
   "metadata": {},
   "outputs": [],
   "source": []
  }
 ],
 "metadata": {
  "kernelspec": {
   "display_name": "Python 3 (ipykernel)",
   "language": "python",
   "name": "python3"
  },
  "language_info": {
   "codemirror_mode": {
    "name": "ipython",
    "version": 3
   },
   "file_extension": ".py",
   "mimetype": "text/x-python",
   "name": "python",
   "nbconvert_exporter": "python",
   "pygments_lexer": "ipython3",
   "version": "3.11.0"
  }
 },
 "nbformat": 4,
 "nbformat_minor": 5
}
